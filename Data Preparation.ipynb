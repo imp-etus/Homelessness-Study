{
  "nbformat": 4,
  "nbformat_minor": 0,
  "metadata": {
    "colab": {
      "provenance": [],
      "include_colab_link": true
    },
    "kernelspec": {
      "name": "python3",
      "display_name": "Python 3"
    },
    "language_info": {
      "name": "python"
    }
  },
  "cells": [
    {
      "cell_type": "markdown",
      "metadata": {
        "id": "view-in-github",
        "colab_type": "text"
      },
      "source": [
        "<a href=\"https://colab.research.google.com/github/imp-etus/Homelessness-Study/blob/main/Data%20Preparation.ipynb\" target=\"_parent\"><img src=\"https://colab.research.google.com/assets/colab-badge.svg\" alt=\"Open In Colab\"/></a>"
      ]
    },
    {
      "cell_type": "markdown",
      "source": [
        "## Introduction"
      ],
      "metadata": {
        "id": "cOSJyABoshOK"
      }
    },
    {
      "cell_type": "markdown",
      "source": [
        "This notebook prepares Housing & Urban Development (HUD) data for analysis. HUD released a report in 2019 which models a relationship between housing market factors & homelessness. Over the course of this project, we will be attempting to outperform those models. However, in order to do that, the data must be cleaned & major factors normalized.\n",
        "\n",
        "For the full repository, go [here](https://github.com/imp-etus/Homelessness-Study). "
      ],
      "metadata": {
        "id": "26hIPGtBsi7g"
      }
    },
    {
      "cell_type": "markdown",
      "source": [
        "## Import libraries"
      ],
      "metadata": {
        "id": "dwvtDMCYlPus"
      }
    },
    {
      "cell_type": "code",
      "execution_count": null,
      "metadata": {
        "id": "DQZAzYri_ru5"
      },
      "outputs": [],
      "source": [
        "import pandas as pd\n",
        "import numpy as np\n",
        "import matplotlib.pyplot as plt\n",
        "import seaborn as sns\n",
        "sns.set_theme(style='whitegrid')\n",
        "import missingno as msno\n",
        "\n",
        "# Train-test splits\n",
        "from sklearn.model_selection import train_test_split\n",
        "\n",
        "# Model preprocessing\n",
        "from sklearn.preprocessing import StandardScaler\n",
        "\n",
        "# Imputation\n",
        "from sklearn.experimental import enable_iterative_imputer\n",
        "from sklearn.impute import SimpleImputer, IterativeImputer, KNNImputer"
      ]
    },
    {
      "cell_type": "markdown",
      "source": [
        "## The data"
      ],
      "metadata": {
        "id": "PQfz_To0dhYX"
      }
    },
    {
      "cell_type": "markdown",
      "source": [
        "## Load the data"
      ],
      "metadata": {
        "id": "5qccuG8vy7Ja"
      }
    },
    {
      "cell_type": "code",
      "source": [
        "df = pd.read_csv('https://raw.githubusercontent.com/brian-fischer/DATA-3320/main/homelessness/05b_analysis_file_update.csv')"
      ],
      "metadata": {
        "id": "xHSRW0_uM_YJ"
      },
      "execution_count": null,
      "outputs": []
    },
    {
      "cell_type": "code",
      "source": [
        "df_dict = pd.read_csv('https://raw.githubusercontent.com/brian-fischer/DATA-3320/main/homelessness/HUD%20TO3%20-%2005b%20Analysis%20File%20-%20Data%20-%20Dictionary.csv')"
      ],
      "metadata": {
        "id": "WYThZ0wXT41Y"
      },
      "execution_count": null,
      "outputs": []
    },
    {
      "cell_type": "markdown",
      "source": [
        "## Explore the contents of the data set"
      ],
      "metadata": {
        "id": "OHVSgzXFd4nf"
      }
    },
    {
      "cell_type": "markdown",
      "source": [
        "What variable(s) do we want to predict?\n",
        "\n",
        "What variables seem useful as predictors?\n",
        "\n",
        "Are any predictor variables redundant?\n"
      ],
      "metadata": {
        "id": "Ump_9ATBqPFb"
      }
    },
    {
      "cell_type": "markdown",
      "source": [
        "### Explore the data sources"
      ],
      "metadata": {
        "id": "B2L10W0sYCcu"
      }
    },
    {
      "cell_type": "markdown",
      "source": [
        "Use the dictionary to find the unique `Associated Domain` values."
      ],
      "metadata": {
        "id": "a_C_nt2bYGdT"
      }
    },
    {
      "cell_type": "markdown",
      "source": [
        "\n",
        "Make a bar graph of the counts of different data sources described in `Source or Root Variable`. Your graph should have the following features:\n",
        "\n",
        "1. Order the bars in descending order based on the count.\n",
        "2. Only include the 10 most common data sources.\n",
        "3. Orient the plot so that it is easy to read the labels.\n"
      ],
      "metadata": {
        "id": "TrDkklbCYNkg"
      }
    },
    {
      "cell_type": "code",
      "source": [
        "counts = df_dict['Source or Root Variable'].value_counts().head(10)\n",
        "counts"
      ],
      "metadata": {
        "colab": {
          "base_uri": "https://localhost:8080/"
        },
        "id": "ZkBWcZc7USoq",
        "outputId": "431b2e65-daa2-4ead-c634-fc6ae73f08ed"
      },
      "execution_count": null,
      "outputs": [
        {
          "output_type": "execute_result",
          "data": {
            "text/plain": [
              "Census ACS 5-Year Estimates                30\n",
              "Census Intercensal Population Estimates    28\n",
              "HUD PIT                                    16\n",
              "HUD                                         8\n",
              "HUD HIC                                     8\n",
              "Eviction Lab at Princeton University        6\n",
              "See hou_mkt_medrent_acs5yr                  6\n",
              "See hou_mkt_homeval_acs5yr                  6\n",
              "See hou_mkt_rentvacancy_acs5yr              5\n",
              "See dem_soc_singparent_acs5yr               5\n",
              "Name: Source or Root Variable, dtype: int64"
            ]
          },
          "metadata": {},
          "execution_count": 179
        }
      ]
    },
    {
      "cell_type": "markdown",
      "source": [
        "## Convert data types, if necessary"
      ],
      "metadata": {
        "id": "kTG4W94-irIA"
      }
    },
    {
      "cell_type": "markdown",
      "source": [
        "## Select relevant subsets of the data"
      ],
      "metadata": {
        "id": "HbsdH56_ijIS"
      }
    },
    {
      "cell_type": "markdown",
      "source": [
        "We will explore a subset of the full data set. Keep at least the following columns. You might include more columns though."
      ],
      "metadata": {
        "id": "pkgfwkedip-C"
      }
    },
    {
      "cell_type": "code",
      "source": [
        "columns_to_keep = [\"year\", \"cocnumber\",\n",
        "  \n",
        "                  \"pit_tot_hless_pit_hud\", \"pit_tot_shelt_pit_hud\", \"pit_tot_unshelt_pit_hud\",\"dem_pop_pop_census\",\n",
        "  \n",
        "                  \"fhfa_hpi_2009\", \"ln_hou_mkt_medrent_xt\", \"hou_mkt_utility_xt\", \"hou_mkt_burden_own_acs5yr_2017\", \"hou_mkt_burden_sev_rent_acs_2017\", \"hou_mkt_rentshare_acs5yr_2017\", \"hou_mkt_rentvacancy_xt\", \"hou_mkt_density_dummy\", \"hou_mkt_evict_count\", \"hou_mkt_ovrcrowd_acs5yr_2017\", \"major_city\", \"suburban\",\n",
        "           \n",
        "                  \"econ_labor_unemp_rate_BLS\", \"econ_labor_incineq_acs5yr_2017\", \"econ_labor_pov_pop_census_share\",\n",
        "           \n",
        "                  \"hou_pol_hudunit_psh_hud_share\", \"hou_pol_occhudunit_psh_hud\", \"hou_mkt_homeage1940_xt\",\n",
        "           \n",
        "                  \"dem_soc_black_census\", \"dem_soc_hispanic_census\", \"dem_soc_asian_census\", \"dem_soc_pacific_census\", \"dem_pop_child_census\", \"dem_pop_senior_census\", \"dem_pop_female_census\", \"dem_pop_mig_census\", \"d_dem_pop_mig_census_share\", \"dem_soc_singadult_xt\", \"dem_soc_singparent_xt\", \"dem_soc_vet_xt\", \"dem_soc_ed_lessbach_xt\", \"dem_health_cost_dart\", \"dem_health_excesdrink_chr\",\n",
        "           \n",
        "                  \"env_wea_avgtemp_noaa\", \"env_wea_avgtemp_summer_noaa\", \"env_wea_precip_noaa\", \"env_wea_precip_annual_noaa\"]\n",
        "    "
      ],
      "metadata": {
        "id": "3Y1XWlAAhLvp"
      },
      "execution_count": null,
      "outputs": []
    },
    {
      "cell_type": "markdown",
      "source": [
        "How many variables of each Associated Domain are in the smaller data set?\n",
        "\n",
        "What are the data sources in the smaller data set?\n"
      ],
      "metadata": {
        "id": "kZJ3Jtw1eCwo"
      }
    },
    {
      "cell_type": "markdown",
      "source": [
        "## Are the data suitable for answering the question?"
      ],
      "metadata": {
        "id": "35pKxSfb2zIs"
      }
    },
    {
      "cell_type": "markdown",
      "source": [
        "We want to perform quick exploratory data analysis to determine whether the data are sufficient to answer our question. If the data are not sufficient, we do not want to waste time doing anything that will not be productive."
      ],
      "metadata": {
        "id": "kywuWQaG22rv"
      }
    },
    {
      "cell_type": "markdown",
      "source": [
        "## Rename columns"
      ],
      "metadata": {
        "id": "3wvK6vF-85aX"
      }
    },
    {
      "cell_type": "code",
      "source": [
        "df = df.loc[:, columns_to_keep]"
      ],
      "metadata": {
        "id": "yxCgTX1oOUKn"
      },
      "execution_count": null,
      "outputs": []
    },
    {
      "cell_type": "code",
      "source": [
        "df = df.rename(columns = {\"cocnumber\":\"coc_number\",\n",
        "                          \"pit_tot_hless_pit_hud\":\"total_homeless\", \n",
        "                          \"pit_tot_shelt_pit_hud\":\"total_sheltered\", \n",
        "                          \"pit_tot_unshelt_pit_hud\":\"total_unsheltered\",\n",
        "                          \"dem_pop_pop_census\":\"total_population\",\n",
        "                          \"fhfa_hpi_2009\":\"house_price_index_2009\", \n",
        "                          \"ln_hou_mkt_medrent_xt\":\"log_median_rent\", \n",
        "                          \"hou_mkt_utility_xt\":\"utility_costs\", \n",
        "                          \"hou_mkt_burden_own_acs5yr_2017\":\"percentage_owners_cost_burden_2016\", \n",
        "                          \"hou_mkt_burden_sev_rent_acs_2017\":\"percentage_renters_severe_cost_burden_2016\", \n",
        "                          \"hou_mkt_rentshare_acs5yr_2017\":\"share_renters_2016\", \n",
        "                          \"hou_mkt_rentvacancy_xt\":\"rental_vacancy_rate\", \n",
        "                          \"hou_mkt_density_dummy\":\"high_housing_density\", \n",
        "                          \"hou_mkt_evict_count\":\"number_eviction\", \n",
        "                          \"hou_mkt_ovrcrowd_acs5yr_2017\":\"share_overcrowded_units_2016\", \n",
        "                          \"major_city\":\"city_or_urban\", \n",
        "                          \"econ_labor_unemp_rate_BLS\":\"rate_unemployment\", \n",
        "                          \"econ_labor_incineq_acs5yr_2017\":\"gini_coefficient_2016\", \n",
        "                          \"econ_labor_pov_pop_census_share\":\"poverty_rate\",        \n",
        "                          \"hou_pol_hudunit_psh_hud_share\":\"share_HUD_units\", \n",
        "                          \"hou_pol_occhudunit_psh_hud\":\"HUD_unit_occupancy_rate\", \n",
        "                          \"hou_mkt_homeage1940_xt\":\"share_built_before_1940\",           \n",
        "                          \"dem_soc_black_census\":\"total_black\", \n",
        "                          \"dem_soc_hispanic_census\":\"total_latino_hispanic\", \n",
        "                          \"dem_soc_asian_census\":\"total_asian\", \n",
        "                          \"dem_soc_pacific_census\":\"total_pacific_islander\", \n",
        "                          \"dem_pop_child_census\":\"total_population_0_19\", \n",
        "                          \"dem_pop_senior_census\":\"total_population_65_plus\", \n",
        "                          \"dem_pop_female_census\":\"total_female_population\", \n",
        "                          \"dem_pop_mig_census\":\"net_migration\", \n",
        "                          \"d_dem_pop_mig_census_share\":\"migration_4_year_change\", \n",
        "                          \"dem_soc_singadult_xt\":\"proportion_one_person_households\", \n",
        "                          \"dem_soc_singparent_xt\":\"share_under_18_with_single_parent\", \n",
        "                          \"dem_soc_vet_xt\":\"share_veteran_status\", \n",
        "                          \"dem_soc_ed_lessbach_xt\":\"share_no_bachelors\", \n",
        "                          \"dem_health_cost_dart\":\"medicare_reimbursements_per_enrollee\", \n",
        "                          \"dem_health_excesdrink_chr\":\"percentage_excessive_drinking\",\n",
        "                          \"env_wea_avgtemp_noaa\":\"average_Jan_temperature\", \n",
        "                          \"env_wea_avgtemp_summer_noaa\":\"average_summer_temperature\", \n",
        "                          \"env_wea_precip_noaa\":\"total_Jan_precipitation\", \n",
        "                          \"env_wea_precip_annual_noaa\":\"total_annual_precipitation\"})"
      ],
      "metadata": {
        "id": "OXpbbI-v9QSY"
      },
      "execution_count": null,
      "outputs": []
    },
    {
      "cell_type": "markdown",
      "source": [
        "## Quality Control"
      ],
      "metadata": {
        "id": "OgPjzVV5jbI9"
      }
    },
    {
      "cell_type": "markdown",
      "source": [
        "Check for out-of-range values or values that do not match what we want to analyze. Either set values to `NaN` or remove the observations, as appropriate."
      ],
      "metadata": {
        "id": "tJqkbbiNjgxZ"
      }
    },
    {
      "cell_type": "code",
      "source": [
        "df.agg(['min', 'max']).round(2).transpose()"
      ],
      "metadata": {
        "colab": {
          "base_uri": "https://localhost:8080/",
          "height": 1000
        },
        "id": "w-53QsKCNUOr",
        "outputId": "d45d9ee9-490e-4ceb-93f0-d18080472585"
      },
      "execution_count": null,
      "outputs": [
        {
          "output_type": "execute_result",
          "data": {
            "text/plain": [
              "                                               min       max\n",
              "year                                          2010      2017\n",
              "coc_number                                  AK-500    WY-500\n",
              "total_homeless                                 7.0   76501.0\n",
              "total_sheltered                                3.0   72565.0\n",
              "total_unsheltered                              0.0   42828.0\n",
              "total_population                             29344  11058958\n",
              "house_price_index_2009                       -26.5     63.86\n",
              "log_median_rent                               1.24      2.87\n",
              "utility_costs                                  5.6      22.6\n",
              "percentage_owners_cost_burden_2016            8.07     22.96\n",
              "percentage_renters_severe_cost_burden_2016   16.38     37.65\n",
              "share_renters_2016                            15.1     69.22\n",
              "rental_vacancy_rate                           1.92     24.63\n",
              "high_housing_density                             0         1\n",
              "number_eviction                                  0     37105\n",
              "share_overcrowded_units_2016                  0.66     12.26\n",
              "city_or_urban                                    0         1\n",
              "suburban                                         0         1\n",
              "rate_unemployment                             2.51     28.86\n",
              "gini_coefficient_2016                        37.56     54.78\n",
              "poverty_rate                                  3.35     35.79\n",
              "share_HUD_units                               0.09     13.96\n",
              "HUD_unit_occupancy_rate                      69.44     100.0\n",
              "share_built_before_1940                       0.22     56.88\n",
              "total_black                                    152   1956449\n",
              "total_latino_hispanic                          224   4924272\n",
              "total_asian                                     80   1474987\n",
              "total_pacific_islander                           1     89016\n",
              "total_population_0_19                         6194   3204024\n",
              "total_population_65_plus                      4781   1525916\n",
              "total_female_population                      14816   5542088\n",
              "net_migration                               -41321    101369\n",
              "migration_4_year_change                      -3.45       2.6\n",
              "proportion_one_person_households             12.48     46.71\n",
              "share_under_18_with_single_parent             9.44     55.63\n",
              "share_veteran_status                           2.8     23.88\n",
              "share_no_bachelors                           23.69     88.64\n",
              "medicare_reimbursements_per_enrollee          6.03     17.95\n",
              "percentage_excessive_drinking                 0.11      0.29\n",
              "average_Jan_temperature                      -3.24      74.7\n",
              "average_summer_temperature                    55.8     93.25\n",
              "total_Jan_precipitation                        0.0     25.32\n",
              "total_annual_precipitation                    1.25    105.19"
            ],
            "text/html": [
              "\n",
              "  <div id=\"df-359dec08-e61d-44d0-ab0f-7eceaefb2b09\">\n",
              "    <div class=\"colab-df-container\">\n",
              "      <div>\n",
              "<style scoped>\n",
              "    .dataframe tbody tr th:only-of-type {\n",
              "        vertical-align: middle;\n",
              "    }\n",
              "\n",
              "    .dataframe tbody tr th {\n",
              "        vertical-align: top;\n",
              "    }\n",
              "\n",
              "    .dataframe thead th {\n",
              "        text-align: right;\n",
              "    }\n",
              "</style>\n",
              "<table border=\"1\" class=\"dataframe\">\n",
              "  <thead>\n",
              "    <tr style=\"text-align: right;\">\n",
              "      <th></th>\n",
              "      <th>min</th>\n",
              "      <th>max</th>\n",
              "    </tr>\n",
              "  </thead>\n",
              "  <tbody>\n",
              "    <tr>\n",
              "      <th>year</th>\n",
              "      <td>2010</td>\n",
              "      <td>2017</td>\n",
              "    </tr>\n",
              "    <tr>\n",
              "      <th>coc_number</th>\n",
              "      <td>AK-500</td>\n",
              "      <td>WY-500</td>\n",
              "    </tr>\n",
              "    <tr>\n",
              "      <th>total_homeless</th>\n",
              "      <td>7.0</td>\n",
              "      <td>76501.0</td>\n",
              "    </tr>\n",
              "    <tr>\n",
              "      <th>total_sheltered</th>\n",
              "      <td>3.0</td>\n",
              "      <td>72565.0</td>\n",
              "    </tr>\n",
              "    <tr>\n",
              "      <th>total_unsheltered</th>\n",
              "      <td>0.0</td>\n",
              "      <td>42828.0</td>\n",
              "    </tr>\n",
              "    <tr>\n",
              "      <th>total_population</th>\n",
              "      <td>29344</td>\n",
              "      <td>11058958</td>\n",
              "    </tr>\n",
              "    <tr>\n",
              "      <th>house_price_index_2009</th>\n",
              "      <td>-26.5</td>\n",
              "      <td>63.86</td>\n",
              "    </tr>\n",
              "    <tr>\n",
              "      <th>log_median_rent</th>\n",
              "      <td>1.24</td>\n",
              "      <td>2.87</td>\n",
              "    </tr>\n",
              "    <tr>\n",
              "      <th>utility_costs</th>\n",
              "      <td>5.6</td>\n",
              "      <td>22.6</td>\n",
              "    </tr>\n",
              "    <tr>\n",
              "      <th>percentage_owners_cost_burden_2016</th>\n",
              "      <td>8.07</td>\n",
              "      <td>22.96</td>\n",
              "    </tr>\n",
              "    <tr>\n",
              "      <th>percentage_renters_severe_cost_burden_2016</th>\n",
              "      <td>16.38</td>\n",
              "      <td>37.65</td>\n",
              "    </tr>\n",
              "    <tr>\n",
              "      <th>share_renters_2016</th>\n",
              "      <td>15.1</td>\n",
              "      <td>69.22</td>\n",
              "    </tr>\n",
              "    <tr>\n",
              "      <th>rental_vacancy_rate</th>\n",
              "      <td>1.92</td>\n",
              "      <td>24.63</td>\n",
              "    </tr>\n",
              "    <tr>\n",
              "      <th>high_housing_density</th>\n",
              "      <td>0</td>\n",
              "      <td>1</td>\n",
              "    </tr>\n",
              "    <tr>\n",
              "      <th>number_eviction</th>\n",
              "      <td>0</td>\n",
              "      <td>37105</td>\n",
              "    </tr>\n",
              "    <tr>\n",
              "      <th>share_overcrowded_units_2016</th>\n",
              "      <td>0.66</td>\n",
              "      <td>12.26</td>\n",
              "    </tr>\n",
              "    <tr>\n",
              "      <th>city_or_urban</th>\n",
              "      <td>0</td>\n",
              "      <td>1</td>\n",
              "    </tr>\n",
              "    <tr>\n",
              "      <th>suburban</th>\n",
              "      <td>0</td>\n",
              "      <td>1</td>\n",
              "    </tr>\n",
              "    <tr>\n",
              "      <th>rate_unemployment</th>\n",
              "      <td>2.51</td>\n",
              "      <td>28.86</td>\n",
              "    </tr>\n",
              "    <tr>\n",
              "      <th>gini_coefficient_2016</th>\n",
              "      <td>37.56</td>\n",
              "      <td>54.78</td>\n",
              "    </tr>\n",
              "    <tr>\n",
              "      <th>poverty_rate</th>\n",
              "      <td>3.35</td>\n",
              "      <td>35.79</td>\n",
              "    </tr>\n",
              "    <tr>\n",
              "      <th>share_HUD_units</th>\n",
              "      <td>0.09</td>\n",
              "      <td>13.96</td>\n",
              "    </tr>\n",
              "    <tr>\n",
              "      <th>HUD_unit_occupancy_rate</th>\n",
              "      <td>69.44</td>\n",
              "      <td>100.0</td>\n",
              "    </tr>\n",
              "    <tr>\n",
              "      <th>share_built_before_1940</th>\n",
              "      <td>0.22</td>\n",
              "      <td>56.88</td>\n",
              "    </tr>\n",
              "    <tr>\n",
              "      <th>total_black</th>\n",
              "      <td>152</td>\n",
              "      <td>1956449</td>\n",
              "    </tr>\n",
              "    <tr>\n",
              "      <th>total_latino_hispanic</th>\n",
              "      <td>224</td>\n",
              "      <td>4924272</td>\n",
              "    </tr>\n",
              "    <tr>\n",
              "      <th>total_asian</th>\n",
              "      <td>80</td>\n",
              "      <td>1474987</td>\n",
              "    </tr>\n",
              "    <tr>\n",
              "      <th>total_pacific_islander</th>\n",
              "      <td>1</td>\n",
              "      <td>89016</td>\n",
              "    </tr>\n",
              "    <tr>\n",
              "      <th>total_population_0_19</th>\n",
              "      <td>6194</td>\n",
              "      <td>3204024</td>\n",
              "    </tr>\n",
              "    <tr>\n",
              "      <th>total_population_65_plus</th>\n",
              "      <td>4781</td>\n",
              "      <td>1525916</td>\n",
              "    </tr>\n",
              "    <tr>\n",
              "      <th>total_female_population</th>\n",
              "      <td>14816</td>\n",
              "      <td>5542088</td>\n",
              "    </tr>\n",
              "    <tr>\n",
              "      <th>net_migration</th>\n",
              "      <td>-41321</td>\n",
              "      <td>101369</td>\n",
              "    </tr>\n",
              "    <tr>\n",
              "      <th>migration_4_year_change</th>\n",
              "      <td>-3.45</td>\n",
              "      <td>2.6</td>\n",
              "    </tr>\n",
              "    <tr>\n",
              "      <th>proportion_one_person_households</th>\n",
              "      <td>12.48</td>\n",
              "      <td>46.71</td>\n",
              "    </tr>\n",
              "    <tr>\n",
              "      <th>share_under_18_with_single_parent</th>\n",
              "      <td>9.44</td>\n",
              "      <td>55.63</td>\n",
              "    </tr>\n",
              "    <tr>\n",
              "      <th>share_veteran_status</th>\n",
              "      <td>2.8</td>\n",
              "      <td>23.88</td>\n",
              "    </tr>\n",
              "    <tr>\n",
              "      <th>share_no_bachelors</th>\n",
              "      <td>23.69</td>\n",
              "      <td>88.64</td>\n",
              "    </tr>\n",
              "    <tr>\n",
              "      <th>medicare_reimbursements_per_enrollee</th>\n",
              "      <td>6.03</td>\n",
              "      <td>17.95</td>\n",
              "    </tr>\n",
              "    <tr>\n",
              "      <th>percentage_excessive_drinking</th>\n",
              "      <td>0.11</td>\n",
              "      <td>0.29</td>\n",
              "    </tr>\n",
              "    <tr>\n",
              "      <th>average_Jan_temperature</th>\n",
              "      <td>-3.24</td>\n",
              "      <td>74.7</td>\n",
              "    </tr>\n",
              "    <tr>\n",
              "      <th>average_summer_temperature</th>\n",
              "      <td>55.8</td>\n",
              "      <td>93.25</td>\n",
              "    </tr>\n",
              "    <tr>\n",
              "      <th>total_Jan_precipitation</th>\n",
              "      <td>0.0</td>\n",
              "      <td>25.32</td>\n",
              "    </tr>\n",
              "    <tr>\n",
              "      <th>total_annual_precipitation</th>\n",
              "      <td>1.25</td>\n",
              "      <td>105.19</td>\n",
              "    </tr>\n",
              "  </tbody>\n",
              "</table>\n",
              "</div>\n",
              "      <button class=\"colab-df-convert\" onclick=\"convertToInteractive('df-359dec08-e61d-44d0-ab0f-7eceaefb2b09')\"\n",
              "              title=\"Convert this dataframe to an interactive table.\"\n",
              "              style=\"display:none;\">\n",
              "        \n",
              "  <svg xmlns=\"http://www.w3.org/2000/svg\" height=\"24px\"viewBox=\"0 0 24 24\"\n",
              "       width=\"24px\">\n",
              "    <path d=\"M0 0h24v24H0V0z\" fill=\"none\"/>\n",
              "    <path d=\"M18.56 5.44l.94 2.06.94-2.06 2.06-.94-2.06-.94-.94-2.06-.94 2.06-2.06.94zm-11 1L8.5 8.5l.94-2.06 2.06-.94-2.06-.94L8.5 2.5l-.94 2.06-2.06.94zm10 10l.94 2.06.94-2.06 2.06-.94-2.06-.94-.94-2.06-.94 2.06-2.06.94z\"/><path d=\"M17.41 7.96l-1.37-1.37c-.4-.4-.92-.59-1.43-.59-.52 0-1.04.2-1.43.59L10.3 9.45l-7.72 7.72c-.78.78-.78 2.05 0 2.83L4 21.41c.39.39.9.59 1.41.59.51 0 1.02-.2 1.41-.59l7.78-7.78 2.81-2.81c.8-.78.8-2.07 0-2.86zM5.41 20L4 18.59l7.72-7.72 1.47 1.35L5.41 20z\"/>\n",
              "  </svg>\n",
              "      </button>\n",
              "      \n",
              "  <style>\n",
              "    .colab-df-container {\n",
              "      display:flex;\n",
              "      flex-wrap:wrap;\n",
              "      gap: 12px;\n",
              "    }\n",
              "\n",
              "    .colab-df-convert {\n",
              "      background-color: #E8F0FE;\n",
              "      border: none;\n",
              "      border-radius: 50%;\n",
              "      cursor: pointer;\n",
              "      display: none;\n",
              "      fill: #1967D2;\n",
              "      height: 32px;\n",
              "      padding: 0 0 0 0;\n",
              "      width: 32px;\n",
              "    }\n",
              "\n",
              "    .colab-df-convert:hover {\n",
              "      background-color: #E2EBFA;\n",
              "      box-shadow: 0px 1px 2px rgba(60, 64, 67, 0.3), 0px 1px 3px 1px rgba(60, 64, 67, 0.15);\n",
              "      fill: #174EA6;\n",
              "    }\n",
              "\n",
              "    [theme=dark] .colab-df-convert {\n",
              "      background-color: #3B4455;\n",
              "      fill: #D2E3FC;\n",
              "    }\n",
              "\n",
              "    [theme=dark] .colab-df-convert:hover {\n",
              "      background-color: #434B5C;\n",
              "      box-shadow: 0px 1px 3px 1px rgba(0, 0, 0, 0.15);\n",
              "      filter: drop-shadow(0px 1px 2px rgba(0, 0, 0, 0.3));\n",
              "      fill: #FFFFFF;\n",
              "    }\n",
              "  </style>\n",
              "\n",
              "      <script>\n",
              "        const buttonEl =\n",
              "          document.querySelector('#df-359dec08-e61d-44d0-ab0f-7eceaefb2b09 button.colab-df-convert');\n",
              "        buttonEl.style.display =\n",
              "          google.colab.kernel.accessAllowed ? 'block' : 'none';\n",
              "\n",
              "        async function convertToInteractive(key) {\n",
              "          const element = document.querySelector('#df-359dec08-e61d-44d0-ab0f-7eceaefb2b09');\n",
              "          const dataTable =\n",
              "            await google.colab.kernel.invokeFunction('convertToInteractive',\n",
              "                                                     [key], {});\n",
              "          if (!dataTable) return;\n",
              "\n",
              "          const docLinkHtml = 'Like what you see? Visit the ' +\n",
              "            '<a target=\"_blank\" href=https://colab.research.google.com/notebooks/data_table.ipynb>data table notebook</a>'\n",
              "            + ' to learn more about interactive tables.';\n",
              "          element.innerHTML = '';\n",
              "          dataTable['output_type'] = 'display_data';\n",
              "          await google.colab.output.renderOutput(dataTable, element);\n",
              "          const docLink = document.createElement('div');\n",
              "          docLink.innerHTML = docLinkHtml;\n",
              "          element.appendChild(docLink);\n",
              "        }\n",
              "      </script>\n",
              "    </div>\n",
              "  </div>\n",
              "  "
            ]
          },
          "metadata": {},
          "execution_count": 184
        }
      ]
    },
    {
      "cell_type": "markdown",
      "source": [
        "## Identify and deal with missing values"
      ],
      "metadata": {
        "id": "aAaUY6N1rtoa"
      }
    },
    {
      "cell_type": "markdown",
      "source": [
        "We then filter to only taking data from 2017 & only where total homeless has a valid input, because that's what we're trying to predict."
      ],
      "metadata": {
        "id": "z50KdOq9g1CF"
      }
    },
    {
      "cell_type": "code",
      "source": [
        "df_updated = df.dropna(subset=['total_homeless']).loc[df['year'] == 2017]"
      ],
      "metadata": {
        "id": "5A2bHVOegVQb"
      },
      "execution_count": null,
      "outputs": []
    },
    {
      "cell_type": "code",
      "source": [
        "# convert homeless rates to per 10k, convert other things to %s\n",
        "df_per10ks = {'total_homeless', 'total_sheltered', 'total_unsheltered'}\n",
        "df_rates = {'total_homeless', 'total_sheltered', 'total_unsheltered', \"total_black\", \"total_latino_hispanic\", \"total_asian\", \"total_pacific_islander\", \"total_population_0_19\", \"total_population_65_plus\", \"total_female_population\"}"
      ],
      "metadata": {
        "id": "wC4IR6cuiHqI"
      },
      "execution_count": null,
      "outputs": []
    },
    {
      "cell_type": "code",
      "source": [
        "for col in df_rates:\n",
        "  df_updated[col] = df_updated[col] / df_updated['total_population']"
      ],
      "metadata": {
        "id": "uG004BnpkgAN"
      },
      "execution_count": null,
      "outputs": []
    },
    {
      "cell_type": "code",
      "source": [
        "for col in df_per10ks:\n",
        "  df_updated[col] = df_updated[col] * 10_000"
      ],
      "metadata": {
        "id": "qXdDg0fPl54n"
      },
      "execution_count": null,
      "outputs": []
    },
    {
      "cell_type": "code",
      "source": [
        "df_updated = df_updated.rename(columns={'total_homeless':'homeless_per_10k', \n",
        "'total_sheltered':'sheltered_per_10k', \n",
        "'total_unsheltered':'unsheltered_per_10k',\n",
        "'total_black':'rate_black', \n",
        "'total_latino_hispanic':'rate_latino_hispanic', \n",
        "'total_asian':'rate_asian', \n",
        "'total_pacific_islander':'rate_pacific_islander', \n",
        "'total_population_0_19':'rate_0_19', \n",
        "'total_population_65_plus':'rate_65_plus', \n",
        "'total_female_population':'rate_female'})"
      ],
      "metadata": {
        "id": "Owlv_y0RnKNx"
      },
      "execution_count": null,
      "outputs": []
    },
    {
      "cell_type": "markdown",
      "source": [
        "## Create relevant derived variables as new columns"
      ],
      "metadata": {
        "id": "2IZlt3PksMUK"
      }
    },
    {
      "cell_type": "markdown",
      "source": [
        "We may already know that we want to process the data to create new variables from the existing variables. However, we often start analyzing the data and realize that it is useful to create new variables derived from the existing variables. Or, we might not create any new columns. It is fine to return to modify this step after exploring the data further."
      ],
      "metadata": {
        "id": "hxBtraVUkDxr"
      }
    },
    {
      "cell_type": "markdown",
      "source": [
        "## Export the clean .csv file"
      ],
      "metadata": {
        "id": "oKGHtonZsZCM"
      }
    },
    {
      "cell_type": "markdown",
      "source": [
        "Export the clean data set"
      ],
      "metadata": {
        "id": "OESlEp8tk2uD"
      }
    },
    {
      "cell_type": "code",
      "source": [
        "from google.colab import files\n",
        "df_updated.to_csv('homelessness_data.csv', encoding='utf-8-sig', index=False)\n",
        "files.download('homelessness_data.csv')"
      ],
      "metadata": {
        "id": "lp0iLYOqKtbQ",
        "colab": {
          "base_uri": "https://localhost:8080/",
          "height": 17
        },
        "outputId": "e87d2138-3d55-4747-e634-d3334cb35322"
      },
      "execution_count": null,
      "outputs": [
        {
          "output_type": "display_data",
          "data": {
            "text/plain": [
              "<IPython.core.display.Javascript object>"
            ],
            "application/javascript": [
              "\n",
              "    async function download(id, filename, size) {\n",
              "      if (!google.colab.kernel.accessAllowed) {\n",
              "        return;\n",
              "      }\n",
              "      const div = document.createElement('div');\n",
              "      const label = document.createElement('label');\n",
              "      label.textContent = `Downloading \"${filename}\": `;\n",
              "      div.appendChild(label);\n",
              "      const progress = document.createElement('progress');\n",
              "      progress.max = size;\n",
              "      div.appendChild(progress);\n",
              "      document.body.appendChild(div);\n",
              "\n",
              "      const buffers = [];\n",
              "      let downloaded = 0;\n",
              "\n",
              "      const channel = await google.colab.kernel.comms.open(id);\n",
              "      // Send a message to notify the kernel that we're ready.\n",
              "      channel.send({})\n",
              "\n",
              "      for await (const message of channel.messages) {\n",
              "        // Send a message to notify the kernel that we're ready.\n",
              "        channel.send({})\n",
              "        if (message.buffers) {\n",
              "          for (const buffer of message.buffers) {\n",
              "            buffers.push(buffer);\n",
              "            downloaded += buffer.byteLength;\n",
              "            progress.value = downloaded;\n",
              "          }\n",
              "        }\n",
              "      }\n",
              "      const blob = new Blob(buffers, {type: 'application/binary'});\n",
              "      const a = document.createElement('a');\n",
              "      a.href = window.URL.createObjectURL(blob);\n",
              "      a.download = filename;\n",
              "      div.appendChild(a);\n",
              "      a.click();\n",
              "      div.remove();\n",
              "    }\n",
              "  "
            ]
          },
          "metadata": {}
        },
        {
          "output_type": "display_data",
          "data": {
            "text/plain": [
              "<IPython.core.display.Javascript object>"
            ],
            "application/javascript": [
              "download(\"download_ae1b01cc-0773-4a80-96a4-7efd96d0adf8\", \"homelessness_data.csv\", 240890)"
            ]
          },
          "metadata": {}
        }
      ]
    }
  ]
}